{
 "cells": [
  {
   "cell_type": "code",
   "execution_count": null,
   "id": "b3d21667",
   "metadata": {},
   "outputs": [],
   "source": [
    "from manim import *\n",
    "import numpy as np\n",
    "\n",
    "%%manim -qm LogisticFractal\n",
    "def getpoints(x,r,count):\n",
    "    for _ in range(count):\n",
    "        x = r*x*(1-x)\n",
    "    return x\n",
    "class LogisticFractal(Scene):\n",
    "    def construct(self):\n",
    "        r=np.linspace(2,4,5000)\n",
    "        ax = Axes(x_range=[2, 4, 0.1], y_range=[0, 1, 0.05] #change axes yourself if needed\n",
    "                  , x_length=14\n",
    "                  , y_length=7.5\n",
    "                  , x_axis_config={\"numbers_to_include\": [x / 10.0 for x in range(20, 40, 1)], #here too\n",
    "                                   \"font_size\": 18,}\n",
    "                  , y_axis_config={\"numbers_to_include\": [x / 20.0 for x in range(0, 20, 1)], #here too\n",
    "                                   \"font_size\": 18,}\n",
    "                  , tips=False)\n",
    "        num_pl = NumberPlane(x_range=[2, 4, 0.1], y_range=[0, 1, 0.05] #here too\n",
    "                            , x_length=14\n",
    "                            , y_length=7.5\n",
    "                            , color=GRAY)\n",
    "        num_pl.set_opacity(0)\n",
    "        self.add(ax,num_pl)\n",
    "        for i in r:\n",
    "            xi=np.random.random()\n",
    "            y = getpoints(xi,i,2000)  \n",
    "            self.add(Dot(ax.coords_to_point(i,y), color=RED,radius=0.05))"
   ]
  }
 ],
 "metadata": {
  "kernelspec": {
   "display_name": "Python 3 (ipykernel)",
   "language": "python",
   "name": "python3"
  },
  "language_info": {
   "codemirror_mode": {
    "name": "ipython",
    "version": 3
   },
   "file_extension": ".py",
   "mimetype": "text/x-python",
   "name": "python",
   "nbconvert_exporter": "python",
   "pygments_lexer": "ipython3",
   "version": "3.10.9"
  }
 },
 "nbformat": 4,
 "nbformat_minor": 5
}
